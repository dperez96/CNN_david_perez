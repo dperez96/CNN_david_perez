{
  "nbformat": 4,
  "nbformat_minor": 0,
  "metadata": {
    "colab": {
      "name": "upload_test.ipynb",
      "provenance": [],
      "collapsed_sections": [],
      "toc_visible": true
    },
    "kernelspec": {
      "name": "python3",
      "display_name": "Python 3"
    }
  },
  "cells": [
    {
      "cell_type": "code",
      "metadata": {
        "id": "mOHBjCM4-547",
        "colab_type": "code",
        "colab": {}
      },
      "source": [
        "#this script is used to visualize the results of saved tests on tensorboard\n",
        "from google.colab import files\n",
        "uploaded = files.upload()"
      ],
      "execution_count": 0,
      "outputs": []
    },
    {
      "cell_type": "code",
      "metadata": {
        "id": "K7NRI7Bg_ivR",
        "colab_type": "code",
        "colab": {}
      },
      "source": [
        "!unzip file.zip -d file"
      ],
      "execution_count": 0,
      "outputs": []
    },
    {
      "cell_type": "code",
      "metadata": {
        "id": "ARSMqFW4_5j0",
        "colab_type": "code",
        "colab": {}
      },
      "source": [
        "%load_ext tensorboard"
      ],
      "execution_count": 0,
      "outputs": []
    },
    {
      "cell_type": "code",
      "metadata": {
        "id": "J0LXxyXx_plr",
        "colab_type": "code",
        "colab": {}
      },
      "source": [
        "%tensorboard --logdir file/content/logs"
      ],
      "execution_count": 0,
      "outputs": []
    }
  ]
}